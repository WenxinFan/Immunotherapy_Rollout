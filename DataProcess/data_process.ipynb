{
 "cells": [
  {
   "cell_type": "code",
   "execution_count": 2,
   "metadata": {
    "collapsed": true,
    "ExecuteTime": {
     "start_time": "2023-11-12T13:35:51.383023Z",
     "end_time": "2023-11-12T13:35:51.639357Z"
    }
   },
   "outputs": [],
   "source": [
    "# -*- coding: utf-8 -*-\n",
    "import numpy as np\n",
    "import pandas as pd"
   ]
  },
  {
   "cell_type": "code",
   "execution_count": 3,
   "outputs": [
    {
     "data": {
      "text/plain": "   No.    Drop out   Outpatient_id  Immune_id   Age  Gender  Duration(Month)  \\\n0    1           No        5121396       9449   8.0       1               36   \n1    2     Pregnant        7002977       9447  33.0       1               18   \n2    3  uneffective        7302433       9446   8.0       1                6   \n3    4     pandemic        7324354       9445   8.0       0               13   \n4    5     Pregnant        4822656       9444  32.0       1               18   \n\n   Distance to Hospital  ration of Treatment cost to Family income (Year)  \\\n0                     1                                                 0   \n1                     0                                                 1   \n2                     1                                                 2   \n3                     1                                                 0   \n4                     0                                                 1   \n\n   Pretreatment_ BCA  ...  36 months_couch  36 months_wheeze  \\\n0               0.88  ...                0                 0   \n1               0.28  ...                0                 1   \n2               0.24  ...                4                 0   \n3               0.56  ...                0                 0   \n4               0.20  ...                0                 0   \n\n   36 months_Total score  36 months_Effectiveness（%） 0 weeks_Drug score  \\\n0                      5                    0.852941                  4   \n1                     18                    0.485714                  4   \n2                     29                    0.147059                  4   \n3                     12                    0.675676                  4   \n4                     16                    0.515152                  3   \n\n   16 weeks_Drug score  12 months_Drug score  18 months_Drug score  \\\n0                    0                     1                   0.0   \n1                    2                     3                   3.0   \n2                    3                     3                   2.0   \n3                    2                     0                   0.0   \n4                    1                     2                   3.0   \n\n   24 months_Drug score  36 months_Drug score  \n0                     0                     0  \n1                     3                     3  \n2                     3                     3  \n3                     2                     2  \n4                     2                     3  \n\n[5 rows x 95 columns]",
      "text/html": "<div>\n<style scoped>\n    .dataframe tbody tr th:only-of-type {\n        vertical-align: middle;\n    }\n\n    .dataframe tbody tr th {\n        vertical-align: top;\n    }\n\n    .dataframe thead th {\n        text-align: right;\n    }\n</style>\n<table border=\"1\" class=\"dataframe\">\n  <thead>\n    <tr style=\"text-align: right;\">\n      <th></th>\n      <th>No.</th>\n      <th>Drop out</th>\n      <th>Outpatient_id</th>\n      <th>Immune_id</th>\n      <th>Age</th>\n      <th>Gender</th>\n      <th>Duration(Month)</th>\n      <th>Distance to Hospital</th>\n      <th>ration of Treatment cost to Family income (Year)</th>\n      <th>Pretreatment_ BCA</th>\n      <th>...</th>\n      <th>36 months_couch</th>\n      <th>36 months_wheeze</th>\n      <th>36 months_Total score</th>\n      <th>36 months_Effectiveness（%）</th>\n      <th>0 weeks_Drug score</th>\n      <th>16 weeks_Drug score</th>\n      <th>12 months_Drug score</th>\n      <th>18 months_Drug score</th>\n      <th>24 months_Drug score</th>\n      <th>36 months_Drug score</th>\n    </tr>\n  </thead>\n  <tbody>\n    <tr>\n      <th>0</th>\n      <td>1</td>\n      <td>No</td>\n      <td>5121396</td>\n      <td>9449</td>\n      <td>8.0</td>\n      <td>1</td>\n      <td>36</td>\n      <td>1</td>\n      <td>0</td>\n      <td>0.88</td>\n      <td>...</td>\n      <td>0</td>\n      <td>0</td>\n      <td>5</td>\n      <td>0.852941</td>\n      <td>4</td>\n      <td>0</td>\n      <td>1</td>\n      <td>0.0</td>\n      <td>0</td>\n      <td>0</td>\n    </tr>\n    <tr>\n      <th>1</th>\n      <td>2</td>\n      <td>Pregnant</td>\n      <td>7002977</td>\n      <td>9447</td>\n      <td>33.0</td>\n      <td>1</td>\n      <td>18</td>\n      <td>0</td>\n      <td>1</td>\n      <td>0.28</td>\n      <td>...</td>\n      <td>0</td>\n      <td>1</td>\n      <td>18</td>\n      <td>0.485714</td>\n      <td>4</td>\n      <td>2</td>\n      <td>3</td>\n      <td>3.0</td>\n      <td>3</td>\n      <td>3</td>\n    </tr>\n    <tr>\n      <th>2</th>\n      <td>3</td>\n      <td>uneffective</td>\n      <td>7302433</td>\n      <td>9446</td>\n      <td>8.0</td>\n      <td>1</td>\n      <td>6</td>\n      <td>1</td>\n      <td>2</td>\n      <td>0.24</td>\n      <td>...</td>\n      <td>4</td>\n      <td>0</td>\n      <td>29</td>\n      <td>0.147059</td>\n      <td>4</td>\n      <td>3</td>\n      <td>3</td>\n      <td>2.0</td>\n      <td>3</td>\n      <td>3</td>\n    </tr>\n    <tr>\n      <th>3</th>\n      <td>4</td>\n      <td>pandemic</td>\n      <td>7324354</td>\n      <td>9445</td>\n      <td>8.0</td>\n      <td>0</td>\n      <td>13</td>\n      <td>1</td>\n      <td>0</td>\n      <td>0.56</td>\n      <td>...</td>\n      <td>0</td>\n      <td>0</td>\n      <td>12</td>\n      <td>0.675676</td>\n      <td>4</td>\n      <td>2</td>\n      <td>0</td>\n      <td>0.0</td>\n      <td>2</td>\n      <td>2</td>\n    </tr>\n    <tr>\n      <th>4</th>\n      <td>5</td>\n      <td>Pregnant</td>\n      <td>4822656</td>\n      <td>9444</td>\n      <td>32.0</td>\n      <td>1</td>\n      <td>18</td>\n      <td>0</td>\n      <td>1</td>\n      <td>0.20</td>\n      <td>...</td>\n      <td>0</td>\n      <td>0</td>\n      <td>16</td>\n      <td>0.515152</td>\n      <td>3</td>\n      <td>1</td>\n      <td>2</td>\n      <td>3.0</td>\n      <td>2</td>\n      <td>3</td>\n    </tr>\n  </tbody>\n</table>\n<p>5 rows × 95 columns</p>\n</div>"
     },
     "execution_count": 3,
     "metadata": {},
     "output_type": "execute_result"
    }
   ],
   "source": [
    "all_df = pd.read_csv('/Users/fanwenxin/Desktop/ARGMAX/Immunotherapy/MyData/AllData.csv', encoding='gb18030')\n",
    "all_df.head()"
   ],
   "metadata": {
    "collapsed": false,
    "ExecuteTime": {
     "start_time": "2023-11-12T13:35:52.165347Z",
     "end_time": "2023-11-12T13:35:52.266374Z"
    }
   }
  },
  {
   "cell_type": "code",
   "execution_count": 4,
   "outputs": [
    {
     "data": {
      "text/plain": "   No.    Drop out   Outpatient_id  Immune_id   Age  Gender  Duration(Month)  \\\n0    1           No        5121396       9449   8.0       1               36   \n1    2     Pregnant        7002977       9447  33.0       1               18   \n2    3  uneffective        7302433       9446   8.0       1                6   \n3    4     pandemic        7324354       9445   8.0       0               13   \n4    5     Pregnant        4822656       9444  32.0       1               18   \n\n   Distance to Hospital  ration of Treatment cost to Family income (Year)  \\\n0                     1                                                 0   \n1                     0                                                 1   \n2                     1                                                 2   \n3                     1                                                 0   \n4                     0                                                 1   \n\n   Pretreatment_ BCA  ...  36 months_chest distress  36 months_couch  \\\n0               0.88  ...                         0                0   \n1               0.28  ...                         0                0   \n2               0.24  ...                         0                4   \n3               0.56  ...                         0                0   \n4               0.20  ...                         0                0   \n\n   36 months_wheeze  36 months_Total score 0 weeks_Drug score  \\\n0                 0                      5                  4   \n1                 1                     18                  4   \n2                 0                     29                  4   \n3                 0                     12                  4   \n4                 0                     16                  3   \n\n   16 weeks_Drug score  12 months_Drug score  18 months_Drug score  \\\n0                    0                     1                   0.0   \n1                    2                     3                   3.0   \n2                    3                     3                   2.0   \n3                    2                     0                   0.0   \n4                    1                     2                   3.0   \n\n   24 months_Drug score  36 months_Drug score  \n0                     0                     0  \n1                     3                     3  \n2                     3                     3  \n3                     2                     2  \n4                     2                     3  \n\n[5 rows x 90 columns]",
      "text/html": "<div>\n<style scoped>\n    .dataframe tbody tr th:only-of-type {\n        vertical-align: middle;\n    }\n\n    .dataframe tbody tr th {\n        vertical-align: top;\n    }\n\n    .dataframe thead th {\n        text-align: right;\n    }\n</style>\n<table border=\"1\" class=\"dataframe\">\n  <thead>\n    <tr style=\"text-align: right;\">\n      <th></th>\n      <th>No.</th>\n      <th>Drop out</th>\n      <th>Outpatient_id</th>\n      <th>Immune_id</th>\n      <th>Age</th>\n      <th>Gender</th>\n      <th>Duration(Month)</th>\n      <th>Distance to Hospital</th>\n      <th>ration of Treatment cost to Family income (Year)</th>\n      <th>Pretreatment_ BCA</th>\n      <th>...</th>\n      <th>36 months_chest distress</th>\n      <th>36 months_couch</th>\n      <th>36 months_wheeze</th>\n      <th>36 months_Total score</th>\n      <th>0 weeks_Drug score</th>\n      <th>16 weeks_Drug score</th>\n      <th>12 months_Drug score</th>\n      <th>18 months_Drug score</th>\n      <th>24 months_Drug score</th>\n      <th>36 months_Drug score</th>\n    </tr>\n  </thead>\n  <tbody>\n    <tr>\n      <th>0</th>\n      <td>1</td>\n      <td>No</td>\n      <td>5121396</td>\n      <td>9449</td>\n      <td>8.0</td>\n      <td>1</td>\n      <td>36</td>\n      <td>1</td>\n      <td>0</td>\n      <td>0.88</td>\n      <td>...</td>\n      <td>0</td>\n      <td>0</td>\n      <td>0</td>\n      <td>5</td>\n      <td>4</td>\n      <td>0</td>\n      <td>1</td>\n      <td>0.0</td>\n      <td>0</td>\n      <td>0</td>\n    </tr>\n    <tr>\n      <th>1</th>\n      <td>2</td>\n      <td>Pregnant</td>\n      <td>7002977</td>\n      <td>9447</td>\n      <td>33.0</td>\n      <td>1</td>\n      <td>18</td>\n      <td>0</td>\n      <td>1</td>\n      <td>0.28</td>\n      <td>...</td>\n      <td>0</td>\n      <td>0</td>\n      <td>1</td>\n      <td>18</td>\n      <td>4</td>\n      <td>2</td>\n      <td>3</td>\n      <td>3.0</td>\n      <td>3</td>\n      <td>3</td>\n    </tr>\n    <tr>\n      <th>2</th>\n      <td>3</td>\n      <td>uneffective</td>\n      <td>7302433</td>\n      <td>9446</td>\n      <td>8.0</td>\n      <td>1</td>\n      <td>6</td>\n      <td>1</td>\n      <td>2</td>\n      <td>0.24</td>\n      <td>...</td>\n      <td>0</td>\n      <td>4</td>\n      <td>0</td>\n      <td>29</td>\n      <td>4</td>\n      <td>3</td>\n      <td>3</td>\n      <td>2.0</td>\n      <td>3</td>\n      <td>3</td>\n    </tr>\n    <tr>\n      <th>3</th>\n      <td>4</td>\n      <td>pandemic</td>\n      <td>7324354</td>\n      <td>9445</td>\n      <td>8.0</td>\n      <td>0</td>\n      <td>13</td>\n      <td>1</td>\n      <td>0</td>\n      <td>0.56</td>\n      <td>...</td>\n      <td>0</td>\n      <td>0</td>\n      <td>0</td>\n      <td>12</td>\n      <td>4</td>\n      <td>2</td>\n      <td>0</td>\n      <td>0.0</td>\n      <td>2</td>\n      <td>2</td>\n    </tr>\n    <tr>\n      <th>4</th>\n      <td>5</td>\n      <td>Pregnant</td>\n      <td>4822656</td>\n      <td>9444</td>\n      <td>32.0</td>\n      <td>1</td>\n      <td>18</td>\n      <td>0</td>\n      <td>1</td>\n      <td>0.20</td>\n      <td>...</td>\n      <td>0</td>\n      <td>0</td>\n      <td>0</td>\n      <td>16</td>\n      <td>3</td>\n      <td>1</td>\n      <td>2</td>\n      <td>3.0</td>\n      <td>2</td>\n      <td>3</td>\n    </tr>\n  </tbody>\n</table>\n<p>5 rows × 90 columns</p>\n</div>"
     },
     "execution_count": 4,
     "metadata": {},
     "output_type": "execute_result"
    }
   ],
   "source": [
    "# 删除语义重复的列\n",
    "new_df = all_df.drop(columns=['16 weeks_Effectiveness(%）', '12 months_Effectiveness（%）', '18 months_Effectiveness（%）',\n",
    "                               '24 months_Effectiveness（%）', '36 months_Effectiveness（%）'])\n",
    "new_df.head()\n",
    "# all_df.shape"
   ],
   "metadata": {
    "collapsed": false,
    "ExecuteTime": {
     "start_time": "2023-11-12T13:35:53.172196Z",
     "end_time": "2023-11-12T13:35:53.175769Z"
    }
   }
  },
  {
   "cell_type": "code",
   "execution_count": 5,
   "outputs": [],
   "source": [
    "def get_act(subject):\n",
    "    act = np.zeros(5)\n",
    "\n",
    "    if subject['Duration(Month)'].values[0] >= 4:\n",
    "        act[0] = 1\n",
    "    if subject['Duration(Month)'].values[0] >= 12:\n",
    "        act[1] = 1\n",
    "    if subject['Duration(Month)'].values[0] >= 18:\n",
    "        act[2] = 1\n",
    "    if subject['Duration(Month)'].values[0] >= 24:\n",
    "        act[3] = 1\n",
    "    if subject['Duration(Month)'].values[0] == 36:\n",
    "        act[4] = 1\n",
    "\n",
    "    return act\n"
   ],
   "metadata": {
    "collapsed": false,
    "ExecuteTime": {
     "start_time": "2023-11-12T13:35:54.149242Z",
     "end_time": "2023-11-12T13:35:54.158351Z"
    }
   }
  },
  {
   "cell_type": "code",
   "execution_count": 6,
   "outputs": [
    {
     "name": "stdout",
     "output_type": "stream",
     "text": [
      "[1. 1. 1. 0. 0.]\n"
     ]
    }
   ],
   "source": [
    "subject = new_df[1:2]\n",
    "# subject\n",
    "act = get_act(subject)\n",
    "print(act)"
   ],
   "metadata": {
    "collapsed": false,
    "ExecuteTime": {
     "start_time": "2023-11-12T13:35:55.292049Z",
     "end_time": "2023-11-12T13:35:55.297583Z"
    }
   }
  },
  {
   "cell_type": "code",
   "execution_count": 7,
   "outputs": [
    {
     "name": "stdout",
     "output_type": "stream",
     "text": [
      "(205, 6, 12)\n",
      "(205, 4, 1)\n"
     ]
    }
   ],
   "source": [
    "# 6个时间点，每个病人有6次状态，但只有5次行动\n",
    "states = []\n",
    "info = []\n",
    "# print(new_df.tail(1).index[0])\n",
    "acts = np.zeros([new_df.tail(1).index[0], 5])\n",
    "\n",
    "for i in range(new_df.tail(1).index[0]):\n",
    "    subject = new_df[i:i+1]\n",
    "    acts[i] = get_act(subject)\n",
    "    info.append([subject['Age'], subject['Gender'], subject['Distance to Hospital'],\n",
    "                 subject['ration of Treatment cost to Family income (Year)']])\n",
    "    phase = ['0 weeks', '16 weeks', '12 months', '18 months', '24 months', '36 months']\n",
    "    subject_state = []\n",
    "    for time in phase:\n",
    "        single_state = np.asarray(subject.loc[i, lambda df: [col for col in df.columns if time in col]])\n",
    "        # single_state = np.reshape(single_state, [3, 4])\n",
    "        # print(single_state)\n",
    "        subject_state.append(single_state)\n",
    "    states.append(np.asarray(subject_state))\n",
    "states = np.asarray(states)\n",
    "info = np.array(info)\n",
    "# info = np.squeeze(info)\n",
    "print(states.shape)\n",
    "print(info.shape)\n",
    "# data"
   ],
   "metadata": {
    "collapsed": false,
    "ExecuteTime": {
     "start_time": "2023-11-12T13:35:56.195449Z",
     "end_time": "2023-11-12T13:35:56.486073Z"
    }
   }
  },
  {
   "cell_type": "code",
   "execution_count": 9,
   "outputs": [
    {
     "name": "stdout",
     "output_type": "stream",
     "text": [
      "(205, 5)\n",
      "[1. 1. 1. 1. 1. 1. 1. 1. 1. 1. 1. 1. 1. 1. 1. 1. 1. 1. 1. 1. 1. 1. 1. 1.\n",
      " 1. 1. 1. 1. 1. 1. 1. 1. 1. 1. 1. 1. 1. 1. 1. 1. 1. 1. 1. 1. 1. 1. 1. 1.\n",
      " 1. 1. 1. 1. 1. 1. 1. 1. 1. 1. 1. 1. 1. 1. 1. 1. 1. 1. 1. 1. 1. 1. 1. 1.\n",
      " 1. 1. 1. 1. 1. 1. 1. 1. 1. 1. 1. 1. 1. 1. 1. 1. 1. 1. 1. 1. 1. 1. 1. 1.\n",
      " 1. 1. 1. 1. 1. 1. 1. 1. 1. 1. 1. 1. 1. 1. 1. 1. 1. 1. 1. 1. 1. 1. 1. 1.\n",
      " 1. 1. 1. 1. 1. 1. 1. 1. 1. 1. 1. 1. 1. 1. 1. 1. 1. 1. 1. 1. 1. 1. 1. 1.\n",
      " 1. 1. 1. 1. 1. 1. 1. 1. 1. 1. 1. 1. 1. 1. 1. 1. 1. 1. 1. 1. 1. 1. 1. 1.\n",
      " 1. 1. 1. 1. 1. 1. 1. 1. 1. 1. 1. 1. 1. 1. 1. 1. 1. 1. 1. 1. 1. 1. 1. 1.\n",
      " 1. 1. 1. 1. 1. 1. 1. 1. 1. 1. 1. 1. 1.]\n"
     ]
    }
   ],
   "source": [
    "print(acts.shape)\n",
    "print(acts[:, 0])"
   ],
   "metadata": {
    "collapsed": false,
    "ExecuteTime": {
     "start_time": "2023-11-12T13:36:14.150917Z",
     "end_time": "2023-11-12T13:36:14.154888Z"
    }
   }
  },
  {
   "cell_type": "code",
   "execution_count": 7,
   "outputs": [
    {
     "name": "stdout",
     "output_type": "stream",
     "text": [
      "[5 5 4 5 4 4 3 0 4 0 34 4]\n",
      "[4 5 5 4 4 0 2 0 5 0 29 0]\n",
      "[2 3 2 2 4 2 0 0 0 0 15 1]\n",
      "[3 2 2 2 3 2 0 0 0 0 14 0.0]\n",
      "[2 2 1 1 2 0 0 0 0 0 8 0]\n",
      "[2 1 0 2 0 0 0 0 0 0 5 0]\n"
     ]
    }
   ],
   "source": [
    "print(states[0][0])\n",
    "print(states[0][1])\n",
    "print(states[0][2])\n",
    "print(states[0][3])\n",
    "print(states[0][4])\n",
    "print(states[0][5])"
   ],
   "metadata": {
    "collapsed": false,
    "ExecuteTime": {
     "start_time": "2023-11-12T06:20:30.980005Z",
     "end_time": "2023-11-12T06:20:30.988099Z"
    }
   }
  },
  {
   "cell_type": "code",
   "execution_count": 8,
   "outputs": [
    {
     "name": "stdout",
     "output_type": "stream",
     "text": [
      "object\n",
      "object\n",
      "object\n",
      "object\n",
      "float64\n",
      "float64\n",
      "(153, 5, 12)\n",
      "(153, 5, 12)\n",
      "(52, 5, 12)\n",
      "(52, 5, 12)\n",
      "(153, 5, 1)\n",
      "(52, 5, 1)\n",
      "(153, 4, 1)\n",
      "(52, 4, 1)\n"
     ]
    }
   ],
   "source": [
    "split = 0.75\n",
    "i_split = int(states.shape[0] * split)\n",
    "\n",
    "train_states = states[:i_split]\n",
    "test_states = states[i_split:]\n",
    "\n",
    "train_x_states = train_states[:, 0:-1]\n",
    "train_y_states = train_states[:, 1:]\n",
    "\n",
    "test_x_states = test_states[:, 0:-1]\n",
    "test_y_states = test_states[:, 1:]\n",
    "\n",
    "acts = np.expand_dims(acts, axis=2)\n",
    "train_acts = acts[:i_split]\n",
    "test_acts = acts[i_split:]\n",
    "\n",
    "train_info = info[:i_split]\n",
    "test_info = info[i_split:]\n",
    "\n",
    "print(train_x_states.dtype)\n",
    "print(train_y_states.dtype)\n",
    "print(test_x_states.dtype)\n",
    "print(test_y_states.dtype)\n",
    "\n",
    "print(train_acts.dtype)\n",
    "print(test_acts.dtype)\n",
    "print(train_x_states.shape)\n",
    "print(train_y_states.shape)\n",
    "\n",
    "print(test_x_states.shape)\n",
    "print(test_y_states.shape)\n",
    "print(train_acts.shape)\n",
    "print(test_acts.shape)\n",
    "print(train_info.shape)\n",
    "print(test_info.shape)"
   ],
   "metadata": {
    "collapsed": false,
    "ExecuteTime": {
     "start_time": "2023-11-12T06:22:02.382408Z",
     "end_time": "2023-11-12T06:22:02.386351Z"
    }
   }
  },
  {
   "cell_type": "code",
   "execution_count": 9,
   "outputs": [
    {
     "name": "stdout",
     "output_type": "stream",
     "text": [
      "(153, 5, 13)\n",
      "(52, 5, 13)\n"
     ]
    }
   ],
   "source": [
    "train_y = np.concatenate((train_acts, train_y_states), axis=2)\n",
    "test_y = np.concatenate((test_acts, test_y_states), axis=2)\n",
    "print(train_y.shape)\n",
    "print(test_y.shape)\n",
    "np.save('/Users/fanwenxin/Desktop/ARGMAX/Immunotherapy/MyData/train_y', train_y)\n",
    "np.save('/Users/fanwenxin/Desktop/ARGMAX/Immunotherapy/MyData/test_y', test_y)"
   ],
   "metadata": {
    "collapsed": false,
    "ExecuteTime": {
     "start_time": "2023-11-12T06:22:15.552988Z",
     "end_time": "2023-11-12T06:22:15.589099Z"
    }
   }
  },
  {
   "cell_type": "code",
   "execution_count": 10,
   "outputs": [],
   "source": [
    "np.save('/Users/fanwenxin/Desktop/ARGMAX/Immunotherapy/MyData/train_info', train_info)\n",
    "np.save('/Users/fanwenxin/Desktop/ARGMAX/Immunotherapy/MyData/test_info', test_info)\n",
    "np.save('/Users/fanwenxin/Desktop/ARGMAX/Immunotherapy/MyData/train_acts', train_acts)\n",
    "np.save('/Users/fanwenxin/Desktop/ARGMAX/Immunotherapy/MyData/test_acts', test_acts)\n",
    "np.save('/Users/fanwenxin/Desktop/ARGMAX/Immunotherapy/MyData/train_x_states', train_x_states)\n",
    "np.save('/Users/fanwenxin/Desktop/ARGMAX/Immunotherapy/MyData/train_y_states', train_y_states)\n",
    "np.save('/Users/fanwenxin/Desktop/ARGMAX/Immunotherapy/MyData/test_x_states', test_x_states)\n",
    "np.save('/Users/fanwenxin/Desktop/ARGMAX/Immunotherapy/MyData/test_y_states', test_y_states)"
   ],
   "metadata": {
    "collapsed": false,
    "ExecuteTime": {
     "start_time": "2023-11-12T06:22:21.269886Z",
     "end_time": "2023-11-12T06:22:21.357491Z"
    }
   }
  },
  {
   "cell_type": "code",
   "execution_count": 10,
   "outputs": [
    {
     "ename": "ValueError",
     "evalue": "Found array with dim 3. StandardScaler expected <= 2.",
     "output_type": "error",
     "traceback": [
      "\u001B[0;31m---------------------------------------------------------------------------\u001B[0m",
      "\u001B[0;31mValueError\u001B[0m                                Traceback (most recent call last)",
      "Cell \u001B[0;32mIn[10], line 6\u001B[0m\n\u001B[1;32m      3\u001B[0m scaler \u001B[38;5;241m=\u001B[39m StandardScaler()\n\u001B[1;32m      4\u001B[0m scaler_y \u001B[38;5;241m=\u001B[39m StandardScaler()\n\u001B[0;32m----> 6\u001B[0m X_train \u001B[38;5;241m=\u001B[39m \u001B[43mscaler\u001B[49m\u001B[38;5;241;43m.\u001B[39;49m\u001B[43mfit_transform\u001B[49m\u001B[43m(\u001B[49m\u001B[43mtrain_x_states\u001B[49m\u001B[43m)\u001B[49m\n\u001B[1;32m      7\u001B[0m y_train \u001B[38;5;241m=\u001B[39m scaler_y\u001B[38;5;241m.\u001B[39mfit_transform(train_y_states)\n\u001B[1;32m      8\u001B[0m Acts_train \u001B[38;5;241m=\u001B[39m scaler_y\u001B[38;5;241m.\u001B[39mfit_transform(train_acts)\n",
      "File \u001B[0;32m~/anaconda3/envs/fan_py/lib/python3.9/site-packages/sklearn/utils/_set_output.py:140\u001B[0m, in \u001B[0;36m_wrap_method_output.<locals>.wrapped\u001B[0;34m(self, X, *args, **kwargs)\u001B[0m\n\u001B[1;32m    138\u001B[0m \u001B[38;5;129m@wraps\u001B[39m(f)\n\u001B[1;32m    139\u001B[0m \u001B[38;5;28;01mdef\u001B[39;00m \u001B[38;5;21mwrapped\u001B[39m(\u001B[38;5;28mself\u001B[39m, X, \u001B[38;5;241m*\u001B[39margs, \u001B[38;5;241m*\u001B[39m\u001B[38;5;241m*\u001B[39mkwargs):\n\u001B[0;32m--> 140\u001B[0m     data_to_wrap \u001B[38;5;241m=\u001B[39m \u001B[43mf\u001B[49m\u001B[43m(\u001B[49m\u001B[38;5;28;43mself\u001B[39;49m\u001B[43m,\u001B[49m\u001B[43m \u001B[49m\u001B[43mX\u001B[49m\u001B[43m,\u001B[49m\u001B[43m \u001B[49m\u001B[38;5;241;43m*\u001B[39;49m\u001B[43margs\u001B[49m\u001B[43m,\u001B[49m\u001B[43m \u001B[49m\u001B[38;5;241;43m*\u001B[39;49m\u001B[38;5;241;43m*\u001B[39;49m\u001B[43mkwargs\u001B[49m\u001B[43m)\u001B[49m\n\u001B[1;32m    141\u001B[0m     \u001B[38;5;28;01mif\u001B[39;00m \u001B[38;5;28misinstance\u001B[39m(data_to_wrap, \u001B[38;5;28mtuple\u001B[39m):\n\u001B[1;32m    142\u001B[0m         \u001B[38;5;66;03m# only wrap the first output for cross decomposition\u001B[39;00m\n\u001B[1;32m    143\u001B[0m         return_tuple \u001B[38;5;241m=\u001B[39m (\n\u001B[1;32m    144\u001B[0m             _wrap_data_with_container(method, data_to_wrap[\u001B[38;5;241m0\u001B[39m], X, \u001B[38;5;28mself\u001B[39m),\n\u001B[1;32m    145\u001B[0m             \u001B[38;5;241m*\u001B[39mdata_to_wrap[\u001B[38;5;241m1\u001B[39m:],\n\u001B[1;32m    146\u001B[0m         )\n",
      "File \u001B[0;32m~/anaconda3/envs/fan_py/lib/python3.9/site-packages/sklearn/base.py:915\u001B[0m, in \u001B[0;36mTransformerMixin.fit_transform\u001B[0;34m(self, X, y, **fit_params)\u001B[0m\n\u001B[1;32m    911\u001B[0m \u001B[38;5;66;03m# non-optimized default implementation; override when a better\u001B[39;00m\n\u001B[1;32m    912\u001B[0m \u001B[38;5;66;03m# method is possible for a given clustering algorithm\u001B[39;00m\n\u001B[1;32m    913\u001B[0m \u001B[38;5;28;01mif\u001B[39;00m y \u001B[38;5;129;01mis\u001B[39;00m \u001B[38;5;28;01mNone\u001B[39;00m:\n\u001B[1;32m    914\u001B[0m     \u001B[38;5;66;03m# fit method of arity 1 (unsupervised transformation)\u001B[39;00m\n\u001B[0;32m--> 915\u001B[0m     \u001B[38;5;28;01mreturn\u001B[39;00m \u001B[38;5;28;43mself\u001B[39;49m\u001B[38;5;241;43m.\u001B[39;49m\u001B[43mfit\u001B[49m\u001B[43m(\u001B[49m\u001B[43mX\u001B[49m\u001B[43m,\u001B[49m\u001B[43m \u001B[49m\u001B[38;5;241;43m*\u001B[39;49m\u001B[38;5;241;43m*\u001B[39;49m\u001B[43mfit_params\u001B[49m\u001B[43m)\u001B[49m\u001B[38;5;241m.\u001B[39mtransform(X)\n\u001B[1;32m    916\u001B[0m \u001B[38;5;28;01melse\u001B[39;00m:\n\u001B[1;32m    917\u001B[0m     \u001B[38;5;66;03m# fit method of arity 2 (supervised transformation)\u001B[39;00m\n\u001B[1;32m    918\u001B[0m     \u001B[38;5;28;01mreturn\u001B[39;00m \u001B[38;5;28mself\u001B[39m\u001B[38;5;241m.\u001B[39mfit(X, y, \u001B[38;5;241m*\u001B[39m\u001B[38;5;241m*\u001B[39mfit_params)\u001B[38;5;241m.\u001B[39mtransform(X)\n",
      "File \u001B[0;32m~/anaconda3/envs/fan_py/lib/python3.9/site-packages/sklearn/preprocessing/_data.py:837\u001B[0m, in \u001B[0;36mStandardScaler.fit\u001B[0;34m(self, X, y, sample_weight)\u001B[0m\n\u001B[1;32m    835\u001B[0m \u001B[38;5;66;03m# Reset internal state before fitting\u001B[39;00m\n\u001B[1;32m    836\u001B[0m \u001B[38;5;28mself\u001B[39m\u001B[38;5;241m.\u001B[39m_reset()\n\u001B[0;32m--> 837\u001B[0m \u001B[38;5;28;01mreturn\u001B[39;00m \u001B[38;5;28;43mself\u001B[39;49m\u001B[38;5;241;43m.\u001B[39;49m\u001B[43mpartial_fit\u001B[49m\u001B[43m(\u001B[49m\u001B[43mX\u001B[49m\u001B[43m,\u001B[49m\u001B[43m \u001B[49m\u001B[43my\u001B[49m\u001B[43m,\u001B[49m\u001B[43m \u001B[49m\u001B[43msample_weight\u001B[49m\u001B[43m)\u001B[49m\n",
      "File \u001B[0;32m~/anaconda3/envs/fan_py/lib/python3.9/site-packages/sklearn/base.py:1151\u001B[0m, in \u001B[0;36m_fit_context.<locals>.decorator.<locals>.wrapper\u001B[0;34m(estimator, *args, **kwargs)\u001B[0m\n\u001B[1;32m   1144\u001B[0m     estimator\u001B[38;5;241m.\u001B[39m_validate_params()\n\u001B[1;32m   1146\u001B[0m \u001B[38;5;28;01mwith\u001B[39;00m config_context(\n\u001B[1;32m   1147\u001B[0m     skip_parameter_validation\u001B[38;5;241m=\u001B[39m(\n\u001B[1;32m   1148\u001B[0m         prefer_skip_nested_validation \u001B[38;5;129;01mor\u001B[39;00m global_skip_validation\n\u001B[1;32m   1149\u001B[0m     )\n\u001B[1;32m   1150\u001B[0m ):\n\u001B[0;32m-> 1151\u001B[0m     \u001B[38;5;28;01mreturn\u001B[39;00m \u001B[43mfit_method\u001B[49m\u001B[43m(\u001B[49m\u001B[43mestimator\u001B[49m\u001B[43m,\u001B[49m\u001B[43m \u001B[49m\u001B[38;5;241;43m*\u001B[39;49m\u001B[43margs\u001B[49m\u001B[43m,\u001B[49m\u001B[43m \u001B[49m\u001B[38;5;241;43m*\u001B[39;49m\u001B[38;5;241;43m*\u001B[39;49m\u001B[43mkwargs\u001B[49m\u001B[43m)\u001B[49m\n",
      "File \u001B[0;32m~/anaconda3/envs/fan_py/lib/python3.9/site-packages/sklearn/preprocessing/_data.py:873\u001B[0m, in \u001B[0;36mStandardScaler.partial_fit\u001B[0;34m(self, X, y, sample_weight)\u001B[0m\n\u001B[1;32m    841\u001B[0m \u001B[38;5;250m\u001B[39m\u001B[38;5;124;03m\"\"\"Online computation of mean and std on X for later scaling.\u001B[39;00m\n\u001B[1;32m    842\u001B[0m \n\u001B[1;32m    843\u001B[0m \u001B[38;5;124;03mAll of X is processed as a single batch. This is intended for cases\u001B[39;00m\n\u001B[0;32m   (...)\u001B[0m\n\u001B[1;32m    870\u001B[0m \u001B[38;5;124;03m    Fitted scaler.\u001B[39;00m\n\u001B[1;32m    871\u001B[0m \u001B[38;5;124;03m\"\"\"\u001B[39;00m\n\u001B[1;32m    872\u001B[0m first_call \u001B[38;5;241m=\u001B[39m \u001B[38;5;129;01mnot\u001B[39;00m \u001B[38;5;28mhasattr\u001B[39m(\u001B[38;5;28mself\u001B[39m, \u001B[38;5;124m\"\u001B[39m\u001B[38;5;124mn_samples_seen_\u001B[39m\u001B[38;5;124m\"\u001B[39m)\n\u001B[0;32m--> 873\u001B[0m X \u001B[38;5;241m=\u001B[39m \u001B[38;5;28;43mself\u001B[39;49m\u001B[38;5;241;43m.\u001B[39;49m\u001B[43m_validate_data\u001B[49m\u001B[43m(\u001B[49m\n\u001B[1;32m    874\u001B[0m \u001B[43m    \u001B[49m\u001B[43mX\u001B[49m\u001B[43m,\u001B[49m\n\u001B[1;32m    875\u001B[0m \u001B[43m    \u001B[49m\u001B[43maccept_sparse\u001B[49m\u001B[38;5;241;43m=\u001B[39;49m\u001B[43m(\u001B[49m\u001B[38;5;124;43m\"\u001B[39;49m\u001B[38;5;124;43mcsr\u001B[39;49m\u001B[38;5;124;43m\"\u001B[39;49m\u001B[43m,\u001B[49m\u001B[43m \u001B[49m\u001B[38;5;124;43m\"\u001B[39;49m\u001B[38;5;124;43mcsc\u001B[39;49m\u001B[38;5;124;43m\"\u001B[39;49m\u001B[43m)\u001B[49m\u001B[43m,\u001B[49m\n\u001B[1;32m    876\u001B[0m \u001B[43m    \u001B[49m\u001B[43mdtype\u001B[49m\u001B[38;5;241;43m=\u001B[39;49m\u001B[43mFLOAT_DTYPES\u001B[49m\u001B[43m,\u001B[49m\n\u001B[1;32m    877\u001B[0m \u001B[43m    \u001B[49m\u001B[43mforce_all_finite\u001B[49m\u001B[38;5;241;43m=\u001B[39;49m\u001B[38;5;124;43m\"\u001B[39;49m\u001B[38;5;124;43mallow-nan\u001B[39;49m\u001B[38;5;124;43m\"\u001B[39;49m\u001B[43m,\u001B[49m\n\u001B[1;32m    878\u001B[0m \u001B[43m    \u001B[49m\u001B[43mreset\u001B[49m\u001B[38;5;241;43m=\u001B[39;49m\u001B[43mfirst_call\u001B[49m\u001B[43m,\u001B[49m\n\u001B[1;32m    879\u001B[0m \u001B[43m\u001B[49m\u001B[43m)\u001B[49m\n\u001B[1;32m    880\u001B[0m n_features \u001B[38;5;241m=\u001B[39m X\u001B[38;5;241m.\u001B[39mshape[\u001B[38;5;241m1\u001B[39m]\n\u001B[1;32m    882\u001B[0m \u001B[38;5;28;01mif\u001B[39;00m sample_weight \u001B[38;5;129;01mis\u001B[39;00m \u001B[38;5;129;01mnot\u001B[39;00m \u001B[38;5;28;01mNone\u001B[39;00m:\n",
      "File \u001B[0;32m~/anaconda3/envs/fan_py/lib/python3.9/site-packages/sklearn/base.py:604\u001B[0m, in \u001B[0;36mBaseEstimator._validate_data\u001B[0;34m(self, X, y, reset, validate_separately, cast_to_ndarray, **check_params)\u001B[0m\n\u001B[1;32m    602\u001B[0m         out \u001B[38;5;241m=\u001B[39m X, y\n\u001B[1;32m    603\u001B[0m \u001B[38;5;28;01melif\u001B[39;00m \u001B[38;5;129;01mnot\u001B[39;00m no_val_X \u001B[38;5;129;01mand\u001B[39;00m no_val_y:\n\u001B[0;32m--> 604\u001B[0m     out \u001B[38;5;241m=\u001B[39m \u001B[43mcheck_array\u001B[49m\u001B[43m(\u001B[49m\u001B[43mX\u001B[49m\u001B[43m,\u001B[49m\u001B[43m \u001B[49m\u001B[43minput_name\u001B[49m\u001B[38;5;241;43m=\u001B[39;49m\u001B[38;5;124;43m\"\u001B[39;49m\u001B[38;5;124;43mX\u001B[39;49m\u001B[38;5;124;43m\"\u001B[39;49m\u001B[43m,\u001B[49m\u001B[43m \u001B[49m\u001B[38;5;241;43m*\u001B[39;49m\u001B[38;5;241;43m*\u001B[39;49m\u001B[43mcheck_params\u001B[49m\u001B[43m)\u001B[49m\n\u001B[1;32m    605\u001B[0m \u001B[38;5;28;01melif\u001B[39;00m no_val_X \u001B[38;5;129;01mand\u001B[39;00m \u001B[38;5;129;01mnot\u001B[39;00m no_val_y:\n\u001B[1;32m    606\u001B[0m     out \u001B[38;5;241m=\u001B[39m _check_y(y, \u001B[38;5;241m*\u001B[39m\u001B[38;5;241m*\u001B[39mcheck_params)\n",
      "File \u001B[0;32m~/anaconda3/envs/fan_py/lib/python3.9/site-packages/sklearn/utils/validation.py:953\u001B[0m, in \u001B[0;36mcheck_array\u001B[0;34m(array, accept_sparse, accept_large_sparse, dtype, order, copy, force_all_finite, ensure_2d, allow_nd, ensure_min_samples, ensure_min_features, estimator, input_name)\u001B[0m\n\u001B[1;32m    948\u001B[0m     \u001B[38;5;28;01mraise\u001B[39;00m \u001B[38;5;167;01mValueError\u001B[39;00m(\n\u001B[1;32m    949\u001B[0m         \u001B[38;5;124m\"\u001B[39m\u001B[38;5;124mdtype=\u001B[39m\u001B[38;5;124m'\u001B[39m\u001B[38;5;124mnumeric\u001B[39m\u001B[38;5;124m'\u001B[39m\u001B[38;5;124m is not compatible with arrays of bytes/strings.\u001B[39m\u001B[38;5;124m\"\u001B[39m\n\u001B[1;32m    950\u001B[0m         \u001B[38;5;124m\"\u001B[39m\u001B[38;5;124mConvert your data to numeric values explicitly instead.\u001B[39m\u001B[38;5;124m\"\u001B[39m\n\u001B[1;32m    951\u001B[0m     )\n\u001B[1;32m    952\u001B[0m \u001B[38;5;28;01mif\u001B[39;00m \u001B[38;5;129;01mnot\u001B[39;00m allow_nd \u001B[38;5;129;01mand\u001B[39;00m array\u001B[38;5;241m.\u001B[39mndim \u001B[38;5;241m>\u001B[39m\u001B[38;5;241m=\u001B[39m \u001B[38;5;241m3\u001B[39m:\n\u001B[0;32m--> 953\u001B[0m     \u001B[38;5;28;01mraise\u001B[39;00m \u001B[38;5;167;01mValueError\u001B[39;00m(\n\u001B[1;32m    954\u001B[0m         \u001B[38;5;124m\"\u001B[39m\u001B[38;5;124mFound array with dim \u001B[39m\u001B[38;5;132;01m%d\u001B[39;00m\u001B[38;5;124m. \u001B[39m\u001B[38;5;132;01m%s\u001B[39;00m\u001B[38;5;124m expected <= 2.\u001B[39m\u001B[38;5;124m\"\u001B[39m\n\u001B[1;32m    955\u001B[0m         \u001B[38;5;241m%\u001B[39m (array\u001B[38;5;241m.\u001B[39mndim, estimator_name)\n\u001B[1;32m    956\u001B[0m     )\n\u001B[1;32m    958\u001B[0m \u001B[38;5;28;01mif\u001B[39;00m force_all_finite:\n\u001B[1;32m    959\u001B[0m     _assert_all_finite(\n\u001B[1;32m    960\u001B[0m         array,\n\u001B[1;32m    961\u001B[0m         input_name\u001B[38;5;241m=\u001B[39minput_name,\n\u001B[1;32m    962\u001B[0m         estimator_name\u001B[38;5;241m=\u001B[39mestimator_name,\n\u001B[1;32m    963\u001B[0m         allow_nan\u001B[38;5;241m=\u001B[39mforce_all_finite \u001B[38;5;241m==\u001B[39m \u001B[38;5;124m\"\u001B[39m\u001B[38;5;124mallow-nan\u001B[39m\u001B[38;5;124m\"\u001B[39m,\n\u001B[1;32m    964\u001B[0m     )\n",
      "\u001B[0;31mValueError\u001B[0m: Found array with dim 3. StandardScaler expected <= 2."
     ]
    }
   ],
   "source": [
    "# SCALE DATA\n",
    "from sklearn.preprocessing import StandardScaler\n",
    "scaler = StandardScaler()\n",
    "scaler_y = StandardScaler()\n",
    "\n",
    "X_train = scaler.fit_transform(train_x_states)\n",
    "y_train = scaler_y.fit_transform(train_y_states)\n",
    "Acts_train = scaler_y.fit_transform(train_acts)\n",
    "\n",
    "X_test = scaler.transform(test_x_states)\n",
    "y_test = scaler.transform(test_y_states)\n",
    "Acts_test = scaler.transform(test_acts)"
   ],
   "metadata": {
    "collapsed": false
   }
  },
  {
   "cell_type": "code",
   "execution_count": null,
   "outputs": [],
   "source": [],
   "metadata": {
    "collapsed": false
   }
  }
 ],
 "metadata": {
  "kernelspec": {
   "display_name": "Python 3",
   "language": "python",
   "name": "python3"
  },
  "language_info": {
   "codemirror_mode": {
    "name": "ipython",
    "version": 2
   },
   "file_extension": ".py",
   "mimetype": "text/x-python",
   "name": "python",
   "nbconvert_exporter": "python",
   "pygments_lexer": "ipython2",
   "version": "2.7.6"
  }
 },
 "nbformat": 4,
 "nbformat_minor": 0
}
